{
  "nbformat": 4,
  "nbformat_minor": 0,
  "metadata": {
    "colab": {
      "name": "Project ideas.ipynb",
      "provenance": [],
      "collapsed_sections": [],
      "authorship_tag": "ABX9TyOeOy3QxHANcxvPFKoROYG9",
      "include_colab_link": true
    },
    "kernelspec": {
      "name": "python3",
      "display_name": "Python 3"
    }
  },
  "cells": [
    {
      "cell_type": "markdown",
      "metadata": {
        "id": "view-in-github",
        "colab_type": "text"
      },
      "source": [
        "<a href=\"https://colab.research.google.com/github/Python-Is-Long/machine-learning-UoT/blob/main/Project_ideas.ipynb\" target=\"_parent\"><img src=\"https://colab.research.google.com/assets/colab-badge.svg\" alt=\"Open In Colab\"/></a>"
      ]
    },
    {
      "cell_type": "markdown",
      "metadata": {
        "id": "OMjubvhBKndy"
      },
      "source": [
        "# Project Goals\n",
        "\n",
        "1. Describe what problems you are trying to solve.\n",
        "\n",
        "2. Explain the value of your project. If you want investors to fund your project, what would you say to convince them?\n",
        "\n",
        "3. Be creative and original."
      ]
    },
    {
      "cell_type": "markdown",
      "metadata": {
        "id": "brgg6-b9Jn5_"
      },
      "source": [
        "# Data Source\n",
        "\n",
        "1. Avoid using Kaggle data that already have solutions. If you want to use Kaggle data, it should be an ongoing competition (you should show how your test result ranks).\n",
        "\n",
        "2. The goverment has many good data sources\n",
        "\n",
        "3. Webscraping and data mining are welcome!\n",
        "\n",
        "4. With consent, you can use data from your company or stakeholders (to solve real business problems).\n",
        "\n",
        "5. Be sure that your data are large enough to apply ML (typically >1000 samples)."
      ]
    },
    {
      "cell_type": "markdown",
      "metadata": {
        "id": "zkgjnmT9L_-L"
      },
      "source": [
        "# Typical Approaches\n",
        "\n",
        "Supervised learning:\n",
        "\n",
        "*   Regression\n",
        "*   Classification\n",
        "\n",
        "Unsupervised learning:\n",
        "\n",
        "*   Clustering\n",
        "\n",
        "NOTE: There are many more advanced ML techniques that do not simply fall under these categories (such as generative models, autoencoders, recommendation systems, etc.). Those will be challenging to do using only the knowledge from this course, but if you feel like to do so, talk to us and we'll see if your project idea is feasible."
      ]
    },
    {
      "cell_type": "markdown",
      "metadata": {
        "id": "yJ75s1sVO3K6"
      },
      "source": [
        "# PRO TIPS\n",
        "\n",
        "\n",
        "*   Come up with some hypotheses and try to answer your hypotheses throughout the project\n",
        "*   Dive into your data before you start any modeling! Do suffient data exploration and descriptive analysis!\n",
        "*   Check the [Big NONOs](https://docs.google.com/document/d/1Ihkkf1O4QbH7ZH4fkuKyQPcK2dSWdSWwZ7PYFKbhll4/edit?usp=sharing) for ML\n",
        "*   Work as a team! If you think your team members are sitting in the back and not collaborating, then be a leader and get your team to work together!\n",
        "*   Don't procrastinate 🤣"
      ]
    },
    {
      "cell_type": "code",
      "metadata": {
        "id": "uzTWMBF0JaPH"
      },
      "source": [
        ""
      ],
      "execution_count": null,
      "outputs": []
    }
  ]
}